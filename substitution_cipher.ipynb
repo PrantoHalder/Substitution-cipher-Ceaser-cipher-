{
  "nbformat": 4,
  "nbformat_minor": 0,
  "metadata": {
    "colab": {
      "provenance": [],
      "collapsed_sections": [],
      "authorship_tag": "ABX9TyOIVdydJp45uIOKse/j5fku",
      "include_colab_link": true
    },
    "kernelspec": {
      "name": "python3",
      "display_name": "Python 3"
    },
    "language_info": {
      "name": "python"
    }
  },
  "cells": [
    {
      "cell_type": "markdown",
      "metadata": {
        "id": "view-in-github",
        "colab_type": "text"
      },
      "source": [
        "<a href=\"https://colab.research.google.com/github/PrantoHalder/Substitution-cipher-Ceaser-cipher-/blob/main/substitution_cipher.ipynb\" target=\"_parent\"><img src=\"https://colab.research.google.com/assets/colab-badge.svg\" alt=\"Open In Colab\"/></a>"
      ]
    },
    {
      "cell_type": "code",
      "source": [
        "import string #import string \n",
        "all=string.ascii_letters#taking all the values  a-z and A-Z in 'all' variable\n",
        "dic={} #declaring a dictonary\n",
        "key=int(input(\"enter the value of key with in 26\")) #key value for substitution cipher\n",
        "for i in range (len(all)): #transfering all of the values to 1 -25\n",
        "  dic[all[i]]=all[(i+key) % len(all)] # adding the value of key \n",
        "plaintext=input(\"please enter your message\") # taking a plain text\n",
        "ciphertext=[] # crate a list for storing cipher text \n"
      ],
      "metadata": {
        "colab": {
          "base_uri": "https://localhost:8080/"
        },
        "id": "VsKxt4cF7PS8",
        "outputId": "d5d87c0d-93b4-45f1-bfdf-2dd58cfac0b0"
      },
      "execution_count": 16,
      "outputs": [
        {
          "name": "stdout",
          "output_type": "stream",
          "text": [
            "enter the value of key with in 264\n",
            "please enter your messagei am a good boy\n"
          ]
        }
      ]
    },
    {
      "cell_type": "code",
      "source": [
        "#generation cipher text\n",
        "for char in plaintext: # comparinf char with plain text\n",
        "    if char in all: # comparing char with all text form a-z\n",
        "        temp = dic[char] #if it matches with a-z  or A-Z store the value to temp\n",
        "        ciphertext.append(temp)# add temp with chphertext\n",
        "    else:\n",
        "        temp =char # if not matches with the a-z(space)\n",
        "        ciphertext.append(temp)#append directly with chpher text\n",
        "         \n",
        "cipher_txt= \"\".join(ciphertext)#creating the chpher text\n",
        "print(\"Cipher Text is: \",cipher_txt)#printing the ciphertext"
      ],
      "metadata": {
        "colab": {
          "base_uri": "https://localhost:8080/"
        },
        "id": "51HKA3dr-zco",
        "outputId": "fe42d46a-46f9-4c67-def8-99bd413b119e"
      },
      "execution_count": 17,
      "outputs": [
        {
          "output_type": "stream",
          "name": "stdout",
          "text": [
            "Cipher Text is:  m eq e kssh fsC\n"
          ]
        }
      ]
    },
    {
      "cell_type": "code",
      "source": [
        "#generating plain text\n",
        "dic1={}#declaring a dictionary for plin text\n",
        "for i in range (len(all)): #transfering all of the values to 1 -25\n",
        "  dic1[all[i]]=all[(i-key) % len(all)] # substracting the value of key\n",
        "plaintext1=[]#crating a list for plaintext\n",
        "for char1 in cipher_txt:#taking all the char form chpher text\n",
        "  if char1 in all:#matching all the chracter with A-Z a-z\n",
        "    temp1=dic1[char1] #if match store in temp1\n",
        "    plaintext1.append(temp1) # if match append in the plaintext\n",
        "  else:\n",
        "    temp1=char1#in don't match like space\n",
        "    plaintext1.append(temp1)# append it with plan text\n",
        "plain_txt=\"\".join(plaintext1)#creating the plain text\n",
        "print(\"the main message is \",plain_txt) # printing the plain text\n"
      ],
      "metadata": {
        "colab": {
          "base_uri": "https://localhost:8080/"
        },
        "id": "XMh_OBsWAJJv",
        "outputId": "149355b2-2cb1-496c-8ec6-e1c3d5db45d9"
      },
      "execution_count": 20,
      "outputs": [
        {
          "output_type": "stream",
          "name": "stdout",
          "text": [
            "the main message is  i am a good boy\n"
          ]
        }
      ]
    }
  ]
}